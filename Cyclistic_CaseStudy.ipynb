{
  "cells": [
    {
      "cell_type": "markdown",
      "metadata": {
        "id": "view-in-github",
        "colab_type": "text"
      },
      "source": [
        "<a href=\"https://colab.research.google.com/github/sayalisa2li7/cyclistic-data-analysis/blob/main/Cyclistic_CaseStudy.ipynb\" target=\"_parent\"><img src=\"https://colab.research.google.com/assets/colab-badge.svg\" alt=\"Open In Colab\"/></a>"
      ]
    },
    {
      "cell_type": "markdown",
      "source": [
        "**CYCLISTIC BIKE-SHARE ANALYSIS**\n",
        "\n",
        "You are a junior data analyst working in the marketing analyst team at Cyclistic, a bike-share company in Chicago. The director\n",
        "of marketing believes the company’s future success depends on maximizing the number of annual memberships. Therefore,\n",
        "your team wants to understand how casual riders and annual members use Cyclistic bikes differently. From these insights,\n",
        "your team will design a new marketing strategy to convert casual riders into annual members. But first, Cyclistic executives\n",
        "must approve your recommendations, so they must be backed up with compelling data insights and professional data\n",
        "visualizations"
      ],
      "metadata": {
        "id": "fhYRliCknECj"
      }
    },
    {
      "cell_type": "markdown",
      "source": [
        "**TASKS:**\n",
        "\n",
        "Three questions to guide the analysis:\n",
        "1. How do annual members and casual riders use Cyclistic bikes differently?\n",
        "2. Why would casual riders buy Cyclistic annual memberships?\n",
        "3. How can Cyclistic use digital media to influence casual riders to become members?"
      ],
      "metadata": {
        "id": "PszD-vbXn4i-"
      }
    },
    {
      "cell_type": "markdown",
      "metadata": {
        "id": "LnXV2MemvXot"
      },
      "source": [
        "**PROCESS:**\n",
        "\n",
        "**Importing libraries and data**"
      ]
    },
    {
      "cell_type": "code",
      "source": [
        "#Mounting drive to get data.\n",
        "from google.colab import drive\n",
        "drive.mount('/content/drive')"
      ],
      "metadata": {
        "colab": {
          "base_uri": "https://localhost:8080/"
        },
        "id": "igNcNRewmNB3",
        "outputId": "432ae216-33a2-47e7-e1f9-88d8107ddf57"
      },
      "execution_count": 1,
      "outputs": [
        {
          "output_type": "stream",
          "name": "stdout",
          "text": [
            "Drive already mounted at /content/drive; to attempt to forcibly remount, call drive.mount(\"/content/drive\", force_remount=True).\n"
          ]
        }
      ]
    },
    {
      "cell_type": "code",
      "execution_count": 2,
      "metadata": {
        "id": "_q1p2h9YkzTN"
      },
      "outputs": [],
      "source": [
        "#Importing libraries and packages.\n",
        "import pandas as pd\n",
        "import numpy as np\n",
        "import matplotlib.pyplot as plt\n",
        "import datetime\n",
        "import textwrap\n",
        "import seaborn as sns"
      ]
    },
    {
      "cell_type": "markdown",
      "metadata": {
        "id": "Y0I7DZbBvmOP"
      },
      "source": [
        "**Loading Data**\n",
        "* Reading CSV files for 12 months\n",
        "* Combining the data into one table"
      ]
    },
    {
      "cell_type": "code",
      "execution_count": 3,
      "metadata": {
        "id": "cn1ElvD2lXic"
      },
      "outputs": [],
      "source": [
        "#Uploading Data\n",
        "#2022june to 2022dec\n",
        "june_2022=pd.read_csv('/content/drive/MyDrive/Colab Notebooks/case study/202206-divvy-tripdata.csv')\n",
        "july_2022=pd.read_csv('/content/drive/MyDrive/Colab Notebooks/case study/202207-divvy-tripdata.csv')\n",
        "aug_2022=pd.read_csv('/content/drive/MyDrive/Colab Notebooks/case study/202208-divvy-tripdata.csv')\n",
        "sept_2022=pd.read_csv('/content/drive/MyDrive/Colab Notebooks/case study/202209-divvy-publictripdata.csv')\n",
        "oct_2022=pd.read_csv('/content/drive/MyDrive/Colab Notebooks/case study/202210-divvy-tripdata.csv')\n",
        "nov_2022=pd.read_csv('/content/drive/MyDrive/Colab Notebooks/case study/202211-divvy-tripdata.csv')\n",
        "dec_2022=pd.read_csv('/content/drive/MyDrive/Colab Notebooks/case study/202212-divvy-tripdata.csv')\n",
        "data_2022=pd.concat([june_2022, july_2022, aug_2022, sept_2022, oct_2022, nov_2022, dec_2022])"
      ]
    },
    {
      "cell_type": "code",
      "execution_count": 4,
      "metadata": {
        "id": "EismgQpitv0L"
      },
      "outputs": [],
      "source": [
        "#2023jan to 2023may\n",
        "jan_2023=pd.read_csv('/content/drive/MyDrive/Colab Notebooks/case study/202301-divvy-tripdata.csv')\n",
        "feb_2023=pd.read_csv('/content/drive/MyDrive/Colab Notebooks/case study/202302-divvy-tripdata.csv')\n",
        "mar_2023=pd.read_csv('/content/drive/MyDrive/Colab Notebooks/case study/202303-divvy-tripdata.csv')\n",
        "apr_2023=pd.read_csv('/content/drive/MyDrive/Colab Notebooks/case study/202304-divvy-tripdata.csv')\n",
        "may_2023=pd.read_csv('/content/drive/MyDrive/Colab Notebooks/case study/202305-divvy-tripdata.csv')\n",
        "data_2023=pd.concat([jan_2023, feb_2023, mar_2023, apr_2023, may_2023])"
      ]
    },
    {
      "cell_type": "code",
      "execution_count": 5,
      "metadata": {
        "id": "eH7fDuzlxLCX"
      },
      "outputs": [],
      "source": [
        "#Combine data of 12 months into one table.\n",
        "data_full=pd.concat([data_2022, data_2023])"
      ]
    },
    {
      "cell_type": "markdown",
      "metadata": {
        "id": "5HnwZW8_wE3t"
      },
      "source": [
        "**Data Cleaning**\n",
        "\n",
        "*   Exploring the data, data types.\n",
        "*   Removing outliers and irrelevant data.\n",
        "*   Removing Null and Duplicate values"
      ]
    },
    {
      "cell_type": "code",
      "execution_count": 6,
      "metadata": {
        "colab": {
          "base_uri": "https://localhost:8080/"
        },
        "id": "ndOxthMqxtg0",
        "outputId": "ae87cff3-73bc-45ee-b9e7-82a0c6d6f603"
      },
      "outputs": [
        {
          "output_type": "execute_result",
          "data": {
            "text/plain": [
              "ride_id                object\n",
              "rideable_type          object\n",
              "started_at             object\n",
              "ended_at               object\n",
              "start_station_name     object\n",
              "start_station_id       object\n",
              "end_station_name       object\n",
              "end_station_id         object\n",
              "start_lat             float64\n",
              "start_lng             float64\n",
              "end_lat               float64\n",
              "end_lng               float64\n",
              "member_casual          object\n",
              "dtype: object"
            ]
          },
          "metadata": {},
          "execution_count": 6
        }
      ],
      "source": [
        "#Data types in tables\n",
        "data_full.dtypes"
      ]
    },
    {
      "cell_type": "code",
      "execution_count": 7,
      "metadata": {
        "id": "IgaH4K_DxLWt"
      },
      "outputs": [],
      "source": [
        "#Dropping irrelevant columns.\n",
        "to_drop = ['start_station_id', 'end_station_name', 'end_station_id', 'start_lat','start_lng','end_lat','end_lng']\n",
        "\n",
        "data_full.drop(to_drop, inplace=True, axis=1)"
      ]
    },
    {
      "cell_type": "code",
      "execution_count": 8,
      "metadata": {
        "colab": {
          "base_uri": "https://localhost:8080/"
        },
        "id": "KbFb1EZsyBb_",
        "outputId": "a477254c-3b4b-4275-98fd-f0227d2d121d"
      },
      "outputs": [
        {
          "output_type": "execute_result",
          "data": {
            "text/plain": [
              "ride_id               False\n",
              "rideable_type         False\n",
              "started_at            False\n",
              "ended_at              False\n",
              "start_station_name     True\n",
              "member_casual         False\n",
              "dtype: bool"
            ]
          },
          "metadata": {},
          "execution_count": 8
        }
      ],
      "source": [
        "#Checking for null value\n",
        "data_full.isnull().any()"
      ]
    },
    {
      "cell_type": "code",
      "execution_count": 9,
      "metadata": {
        "id": "7Yjy0yiY0QOL"
      },
      "outputs": [],
      "source": [
        "#Dropping rows with null values\n",
        "data_full=data_full.dropna(axis=0, how=\"any\", subset=None, inplace=False)"
      ]
    },
    {
      "cell_type": "code",
      "execution_count": 10,
      "metadata": {
        "colab": {
          "base_uri": "https://localhost:8080/"
        },
        "id": "Q-JYDegJ07QG",
        "outputId": "db5fc15b-9937-4dfd-b698-ca3f56db529e"
      },
      "outputs": [
        {
          "output_type": "execute_result",
          "data": {
            "text/plain": [
              "98        False\n",
              "137       False\n",
              "173       False\n",
              "211       False\n",
              "214       False\n",
              "          ...  \n",
              "604822    False\n",
              "604823    False\n",
              "604824    False\n",
              "604825    False\n",
              "604826    False\n",
              "Length: 4994485, dtype: bool"
            ]
          },
          "metadata": {},
          "execution_count": 10
        }
      ],
      "source": [
        "#Checking for Duplicates\n",
        "data_full.duplicated()\n",
        "#no duplicated or null data present\n",
        "#data cleaning complete"
      ]
    },
    {
      "cell_type": "markdown",
      "metadata": {
        "id": "Zyk1pQpYxxMl"
      },
      "source": [
        "**Data Tranformation**\n",
        "\n",
        "*   Changing data types\n",
        "*   Creating new columns\n",
        "*  Removing outliers"
      ]
    },
    {
      "cell_type": "code",
      "execution_count": 11,
      "metadata": {
        "id": "b8h92ckT1LDs"
      },
      "outputs": [],
      "source": [
        "#Change start and end time data type\n",
        "data_full['started_at'] = pd.to_datetime(data_full['started_at'])\n",
        "data_full['ended_at'] = pd.to_datetime(data_full['ended_at'])"
      ]
    },
    {
      "cell_type": "code",
      "execution_count": 12,
      "metadata": {
        "id": "dhIkRyDitMSf"
      },
      "outputs": [],
      "source": [
        "#Adding Month, Week Day and Hour column to table\n",
        "data_full['month'] = data_full['started_at'].dt.month_name()\n",
        "data_full['dayofweek'] = data_full['started_at'].dt.day_name()\n",
        "data_full['hour'] = data_full['started_at'].dt.hour\n",
        "data_full = data_full.astype({'hour':'int8'})"
      ]
    },
    {
      "cell_type": "code",
      "execution_count": 13,
      "metadata": {
        "colab": {
          "base_uri": "https://localhost:8080/",
          "height": 195
        },
        "id": "fRa_dEYcudrd",
        "outputId": "9b2f657d-1f7e-49d1-99b1-8ff51c1fe5f9"
      },
      "outputs": [
        {
          "output_type": "execute_result",
          "data": {
            "text/plain": [
              "              ride_id  rideable_type          started_at            ended_at  \\\n",
              "98   B12AD6565494C368   classic_bike 2022-06-09 22:28:32 2022-06-09 22:52:17   \n",
              "173  D47F7F27B7A505A0  electric_bike 2022-06-30 14:39:03 2022-06-30 15:15:38   \n",
              "214  76DAD9FC95774B53  electric_bike 2022-06-26 23:59:44 2022-06-27 00:25:26   \n",
              "\n",
              "                 start_station_name member_casual month dayofweek  hour  \\\n",
              "98   California Ave & Milwaukee Ave        casual  June  Thursday    22   \n",
              "173     Cottage Grove Ave & 51st St        casual  June  Thursday    14   \n",
              "214     Burnham Greenway & 105th St        casual  June    Sunday    23   \n",
              "\n",
              "     ride_length  \n",
              "98            23  \n",
              "173           36  \n",
              "214           25  "
            ],
            "text/html": [
              "\n",
              "  <div id=\"df-31ea9f73-4bb7-494c-a2e6-ad59e331f186\" class=\"colab-df-container\">\n",
              "    <div>\n",
              "<style scoped>\n",
              "    .dataframe tbody tr th:only-of-type {\n",
              "        vertical-align: middle;\n",
              "    }\n",
              "\n",
              "    .dataframe tbody tr th {\n",
              "        vertical-align: top;\n",
              "    }\n",
              "\n",
              "    .dataframe thead th {\n",
              "        text-align: right;\n",
              "    }\n",
              "</style>\n",
              "<table border=\"1\" class=\"dataframe\">\n",
              "  <thead>\n",
              "    <tr style=\"text-align: right;\">\n",
              "      <th></th>\n",
              "      <th>ride_id</th>\n",
              "      <th>rideable_type</th>\n",
              "      <th>started_at</th>\n",
              "      <th>ended_at</th>\n",
              "      <th>start_station_name</th>\n",
              "      <th>member_casual</th>\n",
              "      <th>month</th>\n",
              "      <th>dayofweek</th>\n",
              "      <th>hour</th>\n",
              "      <th>ride_length</th>\n",
              "    </tr>\n",
              "  </thead>\n",
              "  <tbody>\n",
              "    <tr>\n",
              "      <th>98</th>\n",
              "      <td>B12AD6565494C368</td>\n",
              "      <td>classic_bike</td>\n",
              "      <td>2022-06-09 22:28:32</td>\n",
              "      <td>2022-06-09 22:52:17</td>\n",
              "      <td>California Ave &amp; Milwaukee Ave</td>\n",
              "      <td>casual</td>\n",
              "      <td>June</td>\n",
              "      <td>Thursday</td>\n",
              "      <td>22</td>\n",
              "      <td>23</td>\n",
              "    </tr>\n",
              "    <tr>\n",
              "      <th>173</th>\n",
              "      <td>D47F7F27B7A505A0</td>\n",
              "      <td>electric_bike</td>\n",
              "      <td>2022-06-30 14:39:03</td>\n",
              "      <td>2022-06-30 15:15:38</td>\n",
              "      <td>Cottage Grove Ave &amp; 51st St</td>\n",
              "      <td>casual</td>\n",
              "      <td>June</td>\n",
              "      <td>Thursday</td>\n",
              "      <td>14</td>\n",
              "      <td>36</td>\n",
              "    </tr>\n",
              "    <tr>\n",
              "      <th>214</th>\n",
              "      <td>76DAD9FC95774B53</td>\n",
              "      <td>electric_bike</td>\n",
              "      <td>2022-06-26 23:59:44</td>\n",
              "      <td>2022-06-27 00:25:26</td>\n",
              "      <td>Burnham Greenway &amp; 105th St</td>\n",
              "      <td>casual</td>\n",
              "      <td>June</td>\n",
              "      <td>Sunday</td>\n",
              "      <td>23</td>\n",
              "      <td>25</td>\n",
              "    </tr>\n",
              "  </tbody>\n",
              "</table>\n",
              "</div>\n",
              "    <div class=\"colab-df-buttons\">\n",
              "\n",
              "  <div class=\"colab-df-container\">\n",
              "    <button class=\"colab-df-convert\" onclick=\"convertToInteractive('df-31ea9f73-4bb7-494c-a2e6-ad59e331f186')\"\n",
              "            title=\"Convert this dataframe to an interactive table.\"\n",
              "            style=\"display:none;\">\n",
              "\n",
              "  <svg xmlns=\"http://www.w3.org/2000/svg\" height=\"24px\" viewBox=\"0 -960 960 960\">\n",
              "    <path d=\"M120-120v-720h720v720H120Zm60-500h600v-160H180v160Zm220 220h160v-160H400v160Zm0 220h160v-160H400v160ZM180-400h160v-160H180v160Zm440 0h160v-160H620v160ZM180-180h160v-160H180v160Zm440 0h160v-160H620v160Z\"/>\n",
              "  </svg>\n",
              "    </button>\n",
              "\n",
              "  <style>\n",
              "    .colab-df-container {\n",
              "      display:flex;\n",
              "      gap: 12px;\n",
              "    }\n",
              "\n",
              "    .colab-df-convert {\n",
              "      background-color: #E8F0FE;\n",
              "      border: none;\n",
              "      border-radius: 50%;\n",
              "      cursor: pointer;\n",
              "      display: none;\n",
              "      fill: #1967D2;\n",
              "      height: 32px;\n",
              "      padding: 0 0 0 0;\n",
              "      width: 32px;\n",
              "    }\n",
              "\n",
              "    .colab-df-convert:hover {\n",
              "      background-color: #E2EBFA;\n",
              "      box-shadow: 0px 1px 2px rgba(60, 64, 67, 0.3), 0px 1px 3px 1px rgba(60, 64, 67, 0.15);\n",
              "      fill: #174EA6;\n",
              "    }\n",
              "\n",
              "    .colab-df-buttons div {\n",
              "      margin-bottom: 4px;\n",
              "    }\n",
              "\n",
              "    [theme=dark] .colab-df-convert {\n",
              "      background-color: #3B4455;\n",
              "      fill: #D2E3FC;\n",
              "    }\n",
              "\n",
              "    [theme=dark] .colab-df-convert:hover {\n",
              "      background-color: #434B5C;\n",
              "      box-shadow: 0px 1px 3px 1px rgba(0, 0, 0, 0.15);\n",
              "      filter: drop-shadow(0px 1px 2px rgba(0, 0, 0, 0.3));\n",
              "      fill: #FFFFFF;\n",
              "    }\n",
              "  </style>\n",
              "\n",
              "    <script>\n",
              "      const buttonEl =\n",
              "        document.querySelector('#df-31ea9f73-4bb7-494c-a2e6-ad59e331f186 button.colab-df-convert');\n",
              "      buttonEl.style.display =\n",
              "        google.colab.kernel.accessAllowed ? 'block' : 'none';\n",
              "\n",
              "      async function convertToInteractive(key) {\n",
              "        const element = document.querySelector('#df-31ea9f73-4bb7-494c-a2e6-ad59e331f186');\n",
              "        const dataTable =\n",
              "          await google.colab.kernel.invokeFunction('convertToInteractive',\n",
              "                                                    [key], {});\n",
              "        if (!dataTable) return;\n",
              "\n",
              "        const docLinkHtml = 'Like what you see? Visit the ' +\n",
              "          '<a target=\"_blank\" href=https://colab.research.google.com/notebooks/data_table.ipynb>data table notebook</a>'\n",
              "          + ' to learn more about interactive tables.';\n",
              "        element.innerHTML = '';\n",
              "        dataTable['output_type'] = 'display_data';\n",
              "        await google.colab.output.renderOutput(dataTable, element);\n",
              "        const docLink = document.createElement('div');\n",
              "        docLink.innerHTML = docLinkHtml;\n",
              "        element.appendChild(docLink);\n",
              "      }\n",
              "    </script>\n",
              "  </div>\n",
              "\n",
              "\n",
              "<div id=\"df-6fe794ac-c2c3-486e-887c-9b0dfeac6354\">\n",
              "  <button class=\"colab-df-quickchart\" onclick=\"quickchart('df-6fe794ac-c2c3-486e-887c-9b0dfeac6354')\"\n",
              "            title=\"Suggest charts.\"\n",
              "            style=\"display:none;\">\n",
              "\n",
              "<svg xmlns=\"http://www.w3.org/2000/svg\" height=\"24px\"viewBox=\"0 0 24 24\"\n",
              "     width=\"24px\">\n",
              "    <g>\n",
              "        <path d=\"M19 3H5c-1.1 0-2 .9-2 2v14c0 1.1.9 2 2 2h14c1.1 0 2-.9 2-2V5c0-1.1-.9-2-2-2zM9 17H7v-7h2v7zm4 0h-2V7h2v10zm4 0h-2v-4h2v4z\"/>\n",
              "    </g>\n",
              "</svg>\n",
              "  </button>\n",
              "\n",
              "<style>\n",
              "  .colab-df-quickchart {\n",
              "    background-color: #E8F0FE;\n",
              "    border: none;\n",
              "    border-radius: 50%;\n",
              "    cursor: pointer;\n",
              "    display: none;\n",
              "    fill: #1967D2;\n",
              "    height: 32px;\n",
              "    padding: 0 0 0 0;\n",
              "    width: 32px;\n",
              "  }\n",
              "\n",
              "  .colab-df-quickchart:hover {\n",
              "    background-color: #E2EBFA;\n",
              "    box-shadow: 0px 1px 2px rgba(60, 64, 67, 0.3), 0px 1px 3px 1px rgba(60, 64, 67, 0.15);\n",
              "    fill: #174EA6;\n",
              "  }\n",
              "\n",
              "  [theme=dark] .colab-df-quickchart {\n",
              "    background-color: #3B4455;\n",
              "    fill: #D2E3FC;\n",
              "  }\n",
              "\n",
              "  [theme=dark] .colab-df-quickchart:hover {\n",
              "    background-color: #434B5C;\n",
              "    box-shadow: 0px 1px 3px 1px rgba(0, 0, 0, 0.15);\n",
              "    filter: drop-shadow(0px 1px 2px rgba(0, 0, 0, 0.3));\n",
              "    fill: #FFFFFF;\n",
              "  }\n",
              "</style>\n",
              "\n",
              "  <script>\n",
              "    async function quickchart(key) {\n",
              "      const charts = await google.colab.kernel.invokeFunction(\n",
              "          'suggestCharts', [key], {});\n",
              "    }\n",
              "    (() => {\n",
              "      let quickchartButtonEl =\n",
              "        document.querySelector('#df-6fe794ac-c2c3-486e-887c-9b0dfeac6354 button');\n",
              "      quickchartButtonEl.style.display =\n",
              "        google.colab.kernel.accessAllowed ? 'block' : 'none';\n",
              "    })();\n",
              "  </script>\n",
              "</div>\n",
              "    </div>\n",
              "  </div>\n"
            ]
          },
          "metadata": {},
          "execution_count": 13
        }
      ],
      "source": [
        "#Removing trips with zero length\n",
        "data_full['ride_length'] = (data_full['ended_at'] - data_full['started_at']) / datetime.timedelta(minutes=1)\n",
        "data_full['ride_length'] = data_full['ride_length'].astype('int32')\n",
        "data_full = data_full.drop(data_full[data_full.ride_length <= 0].index)\n",
        "data_full.head(3)"
      ]
    },
    {
      "cell_type": "markdown",
      "metadata": {
        "id": "4_QTQuSix5Yk"
      },
      "source": [
        "**Data Analysis**\n",
        "\n",
        "We will take a closer look at the dataset to find out how casual riders and members use Cyclistic bikes differently."
      ]
    },
    {
      "cell_type": "code",
      "execution_count": 14,
      "metadata": {
        "colab": {
          "base_uri": "https://localhost:8080/",
          "height": 143
        },
        "id": "Pf8On4FAtChQ",
        "outputId": "f780a2c2-5c46-45df-bbd6-08d5f96d1b09"
      },
      "outputs": [
        {
          "output_type": "execute_result",
          "data": {
            "text/plain": [
              "<pandas.io.formats.style.Styler at 0x79f89812ef50>"
            ],
            "text/html": [
              "<style type=\"text/css\">\n",
              "#T_ba18f_row1_col0 {\n",
              "  background-color: green;\n",
              "}\n",
              "</style>\n",
              "<table id=\"T_ba18f\" class=\"dataframe\">\n",
              "  <thead>\n",
              "    <tr>\n",
              "      <th class=\"blank level0\" >&nbsp;</th>\n",
              "      <th id=\"T_ba18f_level0_col0\" class=\"col_heading level0 col0\" >ride_id</th>\n",
              "    </tr>\n",
              "    <tr>\n",
              "      <th class=\"index_name level0\" >member_casual</th>\n",
              "      <th class=\"blank col0\" >&nbsp;</th>\n",
              "    </tr>\n",
              "  </thead>\n",
              "  <tbody>\n",
              "    <tr>\n",
              "      <th id=\"T_ba18f_level0_row0\" class=\"row_heading level0 row0\" >casual</th>\n",
              "      <td id=\"T_ba18f_row0_col0\" class=\"data row0 col0\" >1684617</td>\n",
              "    </tr>\n",
              "    <tr>\n",
              "      <th id=\"T_ba18f_level0_row1\" class=\"row_heading level0 row1\" >member</th>\n",
              "      <td id=\"T_ba18f_row1_col0\" class=\"data row1 col0\" >2541806</td>\n",
              "    </tr>\n",
              "  </tbody>\n",
              "</table>\n"
            ]
          },
          "metadata": {},
          "execution_count": 14
        }
      ],
      "source": [
        "#Number of Members and Casual Riders\n",
        "rider_type=data_full.groupby('member_casual', as_index=True)[['ride_id']].count()\n",
        "rider_type.style.highlight_max(subset='ride_id', color='green')"
      ]
    },
    {
      "cell_type": "code",
      "source": [
        "#Popular Rideable Type for riders\n",
        "rideable_pivot=pd.pivot_table(data_full, index=['rideable_type'], values='ride_id', aggfunc='count', columns=['member_casual'])\n",
        "rideable_pivot['total riders']=rideable_pivot['casual']+rideable_pivot['member']\n",
        "rideable_pivot.style.highlight_max(subset=['casual','member','total riders'], color='green')"
      ],
      "metadata": {
        "colab": {
          "base_uri": "https://localhost:8080/",
          "height": 174
        },
        "id": "wff9S0roPlhx",
        "outputId": "1cf27dba-f812-4380-ebf2-6104a10aa2db"
      },
      "execution_count": 15,
      "outputs": [
        {
          "output_type": "execute_result",
          "data": {
            "text/plain": [
              "<pandas.io.formats.style.Styler at 0x79f7cdc48fa0>"
            ],
            "text/html": [
              "<style type=\"text/css\">\n",
              "#T_a09b7_row0_col1, #T_a09b7_row0_col2, #T_a09b7_row2_col0 {\n",
              "  background-color: green;\n",
              "}\n",
              "</style>\n",
              "<table id=\"T_a09b7\" class=\"dataframe\">\n",
              "  <thead>\n",
              "    <tr>\n",
              "      <th class=\"index_name level0\" >member_casual</th>\n",
              "      <th id=\"T_a09b7_level0_col0\" class=\"col_heading level0 col0\" >casual</th>\n",
              "      <th id=\"T_a09b7_level0_col1\" class=\"col_heading level0 col1\" >member</th>\n",
              "      <th id=\"T_a09b7_level0_col2\" class=\"col_heading level0 col2\" >total riders</th>\n",
              "    </tr>\n",
              "    <tr>\n",
              "      <th class=\"index_name level0\" >rideable_type</th>\n",
              "      <th class=\"blank col0\" >&nbsp;</th>\n",
              "      <th class=\"blank col1\" >&nbsp;</th>\n",
              "      <th class=\"blank col2\" >&nbsp;</th>\n",
              "    </tr>\n",
              "  </thead>\n",
              "  <tbody>\n",
              "    <tr>\n",
              "      <th id=\"T_a09b7_level0_row0\" class=\"row_heading level0 row0\" >classic_bike</th>\n",
              "      <td id=\"T_a09b7_row0_col0\" class=\"data row0 col0\" >736129.000000</td>\n",
              "      <td id=\"T_a09b7_row0_col1\" class=\"data row0 col1\" >1464646.000000</td>\n",
              "      <td id=\"T_a09b7_row0_col2\" class=\"data row0 col2\" >2200775.000000</td>\n",
              "    </tr>\n",
              "    <tr>\n",
              "      <th id=\"T_a09b7_level0_row1\" class=\"row_heading level0 row1\" >docked_bike</th>\n",
              "      <td id=\"T_a09b7_row1_col0\" class=\"data row1 col0\" >135562.000000</td>\n",
              "      <td id=\"T_a09b7_row1_col1\" class=\"data row1 col1\" >nan</td>\n",
              "      <td id=\"T_a09b7_row1_col2\" class=\"data row1 col2\" >nan</td>\n",
              "    </tr>\n",
              "    <tr>\n",
              "      <th id=\"T_a09b7_level0_row2\" class=\"row_heading level0 row2\" >electric_bike</th>\n",
              "      <td id=\"T_a09b7_row2_col0\" class=\"data row2 col0\" >812926.000000</td>\n",
              "      <td id=\"T_a09b7_row2_col1\" class=\"data row2 col1\" >1077160.000000</td>\n",
              "      <td id=\"T_a09b7_row2_col2\" class=\"data row2 col2\" >1890086.000000</td>\n",
              "    </tr>\n",
              "  </tbody>\n",
              "</table>\n"
            ]
          },
          "metadata": {},
          "execution_count": 15
        }
      ]
    },
    {
      "cell_type": "code",
      "source": [
        "#Popular Weed Day for riders\n",
        "weekly_pivot=pd.pivot_table(data_full, index=['dayofweek'], values='ride_id', aggfunc='count', columns=['member_casual'])\n",
        "weekly_pivot['total riders']=weekly_pivot['casual']+weekly_pivot['member']\n",
        "weekly_pivot.style.highlight_max(subset=['casual','member','total riders'], color='green')"
      ],
      "metadata": {
        "colab": {
          "base_uri": "https://localhost:8080/",
          "height": 300
        },
        "id": "hTtjdWTIyiQX",
        "outputId": "0a02f8d6-12c2-446f-a0d8-b292859734a0"
      },
      "execution_count": 16,
      "outputs": [
        {
          "output_type": "execute_result",
          "data": {
            "text/plain": [
              "<pandas.io.formats.style.Styler at 0x79f855eff850>"
            ],
            "text/html": [
              "<style type=\"text/css\">\n",
              "#T_d3491_row2_col0, #T_d3491_row2_col2, #T_d3491_row6_col1 {\n",
              "  background-color: green;\n",
              "}\n",
              "</style>\n",
              "<table id=\"T_d3491\" class=\"dataframe\">\n",
              "  <thead>\n",
              "    <tr>\n",
              "      <th class=\"index_name level0\" >member_casual</th>\n",
              "      <th id=\"T_d3491_level0_col0\" class=\"col_heading level0 col0\" >casual</th>\n",
              "      <th id=\"T_d3491_level0_col1\" class=\"col_heading level0 col1\" >member</th>\n",
              "      <th id=\"T_d3491_level0_col2\" class=\"col_heading level0 col2\" >total riders</th>\n",
              "    </tr>\n",
              "    <tr>\n",
              "      <th class=\"index_name level0\" >dayofweek</th>\n",
              "      <th class=\"blank col0\" >&nbsp;</th>\n",
              "      <th class=\"blank col1\" >&nbsp;</th>\n",
              "      <th class=\"blank col2\" >&nbsp;</th>\n",
              "    </tr>\n",
              "  </thead>\n",
              "  <tbody>\n",
              "    <tr>\n",
              "      <th id=\"T_d3491_level0_row0\" class=\"row_heading level0 row0\" >Friday</th>\n",
              "      <td id=\"T_d3491_row0_col0\" class=\"data row0 col0\" >256238</td>\n",
              "      <td id=\"T_d3491_row0_col1\" class=\"data row0 col1\" >372833</td>\n",
              "      <td id=\"T_d3491_row0_col2\" class=\"data row0 col2\" >629071</td>\n",
              "    </tr>\n",
              "    <tr>\n",
              "      <th id=\"T_d3491_level0_row1\" class=\"row_heading level0 row1\" >Monday</th>\n",
              "      <td id=\"T_d3491_row1_col0\" class=\"data row1 col0\" >191650</td>\n",
              "      <td id=\"T_d3491_row1_col1\" class=\"data row1 col1\" >351490</td>\n",
              "      <td id=\"T_d3491_row1_col2\" class=\"data row1 col2\" >543140</td>\n",
              "    </tr>\n",
              "    <tr>\n",
              "      <th id=\"T_d3491_level0_row2\" class=\"row_heading level0 row2\" >Saturday</th>\n",
              "      <td id=\"T_d3491_row2_col0\" class=\"data row2 col0\" >335523</td>\n",
              "      <td id=\"T_d3491_row2_col1\" class=\"data row2 col1\" >320163</td>\n",
              "      <td id=\"T_d3491_row2_col2\" class=\"data row2 col2\" >655686</td>\n",
              "    </tr>\n",
              "    <tr>\n",
              "      <th id=\"T_d3491_level0_row3\" class=\"row_heading level0 row3\" >Sunday</th>\n",
              "      <td id=\"T_d3491_row3_col0\" class=\"data row3 col0\" >276471</td>\n",
              "      <td id=\"T_d3491_row3_col1\" class=\"data row3 col1\" >288391</td>\n",
              "      <td id=\"T_d3491_row3_col2\" class=\"data row3 col2\" >564862</td>\n",
              "    </tr>\n",
              "    <tr>\n",
              "      <th id=\"T_d3491_level0_row4\" class=\"row_heading level0 row4\" >Thursday</th>\n",
              "      <td id=\"T_d3491_row4_col0\" class=\"data row4 col0\" >219686</td>\n",
              "      <td id=\"T_d3491_row4_col1\" class=\"data row4 col1\" >395685</td>\n",
              "      <td id=\"T_d3491_row4_col2\" class=\"data row4 col2\" >615371</td>\n",
              "    </tr>\n",
              "    <tr>\n",
              "      <th id=\"T_d3491_level0_row5\" class=\"row_heading level0 row5\" >Tuesday</th>\n",
              "      <td id=\"T_d3491_row5_col0\" class=\"data row5 col0\" >198432</td>\n",
              "      <td id=\"T_d3491_row5_col1\" class=\"data row5 col1\" >406061</td>\n",
              "      <td id=\"T_d3491_row5_col2\" class=\"data row5 col2\" >604493</td>\n",
              "    </tr>\n",
              "    <tr>\n",
              "      <th id=\"T_d3491_level0_row6\" class=\"row_heading level0 row6\" >Wednesday</th>\n",
              "      <td id=\"T_d3491_row6_col0\" class=\"data row6 col0\" >206617</td>\n",
              "      <td id=\"T_d3491_row6_col1\" class=\"data row6 col1\" >407183</td>\n",
              "      <td id=\"T_d3491_row6_col2\" class=\"data row6 col2\" >613800</td>\n",
              "    </tr>\n",
              "  </tbody>\n",
              "</table>\n"
            ]
          },
          "metadata": {},
          "execution_count": 16
        }
      ]
    },
    {
      "cell_type": "code",
      "source": [
        "#Popular Month for riders\n",
        "monthly_pivot=pd.pivot_table(data_full, index=['month'], values='ride_id', aggfunc='count', columns=['member_casual'])\n",
        "monthly_pivot['total riders']=monthly_pivot['casual']+monthly_pivot['member']\n",
        "monthly_pivot.style.highlight_max(subset=['casual','member','total riders'], color='green')"
      ],
      "metadata": {
        "colab": {
          "base_uri": "https://localhost:8080/",
          "height": 457
        },
        "id": "dbsUQpmexbmB",
        "outputId": "8f3d0038-274e-41d9-bcc6-bda729a0990b"
      },
      "execution_count": 17,
      "outputs": [
        {
          "output_type": "execute_result",
          "data": {
            "text/plain": [
              "<pandas.io.formats.style.Styler at 0x79f89905a350>"
            ],
            "text/html": [
              "<style type=\"text/css\">\n",
              "#T_39164_row1_col1, #T_39164_row5_col0, #T_39164_row5_col2 {\n",
              "  background-color: green;\n",
              "}\n",
              "</style>\n",
              "<table id=\"T_39164\" class=\"dataframe\">\n",
              "  <thead>\n",
              "    <tr>\n",
              "      <th class=\"index_name level0\" >member_casual</th>\n",
              "      <th id=\"T_39164_level0_col0\" class=\"col_heading level0 col0\" >casual</th>\n",
              "      <th id=\"T_39164_level0_col1\" class=\"col_heading level0 col1\" >member</th>\n",
              "      <th id=\"T_39164_level0_col2\" class=\"col_heading level0 col2\" >total riders</th>\n",
              "    </tr>\n",
              "    <tr>\n",
              "      <th class=\"index_name level0\" >month</th>\n",
              "      <th class=\"blank col0\" >&nbsp;</th>\n",
              "      <th class=\"blank col1\" >&nbsp;</th>\n",
              "      <th class=\"blank col2\" >&nbsp;</th>\n",
              "    </tr>\n",
              "  </thead>\n",
              "  <tbody>\n",
              "    <tr>\n",
              "      <th id=\"T_39164_level0_row0\" class=\"row_heading level0 row0\" >April</th>\n",
              "      <td id=\"T_39164_row0_col0\" class=\"data row0 col0\" >107912</td>\n",
              "      <td id=\"T_39164_row0_col1\" class=\"data row0 col1\" >204585</td>\n",
              "      <td id=\"T_39164_row0_col2\" class=\"data row0 col2\" >312497</td>\n",
              "    </tr>\n",
              "    <tr>\n",
              "      <th id=\"T_39164_level0_row1\" class=\"row_heading level0 row1\" >August</th>\n",
              "      <td id=\"T_39164_row1_col0\" class=\"data row1 col0\" >269765</td>\n",
              "      <td id=\"T_39164_row1_col1\" class=\"data row1 col1\" >329865</td>\n",
              "      <td id=\"T_39164_row1_col2\" class=\"data row1 col2\" >599630</td>\n",
              "    </tr>\n",
              "    <tr>\n",
              "      <th id=\"T_39164_level0_row2\" class=\"row_heading level0 row2\" >December</th>\n",
              "      <td id=\"T_39164_row2_col0\" class=\"data row2 col0\" >30512</td>\n",
              "      <td id=\"T_39164_row2_col1\" class=\"data row2 col1\" >93875</td>\n",
              "      <td id=\"T_39164_row2_col2\" class=\"data row2 col2\" >124387</td>\n",
              "    </tr>\n",
              "    <tr>\n",
              "      <th id=\"T_39164_level0_row3\" class=\"row_heading level0 row3\" >February</th>\n",
              "      <td id=\"T_39164_row3_col0\" class=\"data row3 col0\" >32975</td>\n",
              "      <td id=\"T_39164_row3_col1\" class=\"data row3 col1\" >110125</td>\n",
              "      <td id=\"T_39164_row3_col2\" class=\"data row3 col2\" >143100</td>\n",
              "    </tr>\n",
              "    <tr>\n",
              "      <th id=\"T_39164_level0_row4\" class=\"row_heading level0 row4\" >January</th>\n",
              "      <td id=\"T_39164_row4_col0\" class=\"data row4 col0\" >29919</td>\n",
              "      <td id=\"T_39164_row4_col1\" class=\"data row4 col1\" >111172</td>\n",
              "      <td id=\"T_39164_row4_col2\" class=\"data row4 col2\" >141091</td>\n",
              "    </tr>\n",
              "    <tr>\n",
              "      <th id=\"T_39164_level0_row5\" class=\"row_heading level0 row5\" >July</th>\n",
              "      <td id=\"T_39164_row5_col0\" class=\"data row5 col0\" >308934</td>\n",
              "      <td id=\"T_39164_row5_col1\" class=\"data row5 col1\" >320136</td>\n",
              "      <td id=\"T_39164_row5_col2\" class=\"data row5 col2\" >629070</td>\n",
              "    </tr>\n",
              "    <tr>\n",
              "      <th id=\"T_39164_level0_row6\" class=\"row_heading level0 row6\" >June</th>\n",
              "      <td id=\"T_39164_row6_col0\" class=\"data row6 col0\" >284182</td>\n",
              "      <td id=\"T_39164_row6_col1\" class=\"data row6 col1\" >312757</td>\n",
              "      <td id=\"T_39164_row6_col2\" class=\"data row6 col2\" >596939</td>\n",
              "    </tr>\n",
              "    <tr>\n",
              "      <th id=\"T_39164_level0_row7\" class=\"row_heading level0 row7\" >March</th>\n",
              "      <td id=\"T_39164_row7_col0\" class=\"data row7 col0\" >47132</td>\n",
              "      <td id=\"T_39164_row7_col1\" class=\"data row7 col1\" >144671</td>\n",
              "      <td id=\"T_39164_row7_col2\" class=\"data row7 col2\" >191803</td>\n",
              "    </tr>\n",
              "    <tr>\n",
              "      <th id=\"T_39164_level0_row8\" class=\"row_heading level0 row8\" >May</th>\n",
              "      <td id=\"T_39164_row8_col0\" class=\"data row8 col0\" >171945</td>\n",
              "      <td id=\"T_39164_row8_col1\" class=\"data row8 col1\" >271113</td>\n",
              "      <td id=\"T_39164_row8_col2\" class=\"data row8 col2\" >443058</td>\n",
              "    </tr>\n",
              "    <tr>\n",
              "      <th id=\"T_39164_level0_row9\" class=\"row_heading level0 row9\" >November</th>\n",
              "      <td id=\"T_39164_row9_col0\" class=\"data row9 col0\" >29336</td>\n",
              "      <td id=\"T_39164_row9_col1\" class=\"data row9 col1\" >78028</td>\n",
              "      <td id=\"T_39164_row9_col2\" class=\"data row9 col2\" >107364</td>\n",
              "    </tr>\n",
              "    <tr>\n",
              "      <th id=\"T_39164_level0_row10\" class=\"row_heading level0 row10\" >October</th>\n",
              "      <td id=\"T_39164_row10_col0\" class=\"data row10 col0\" >152071</td>\n",
              "      <td id=\"T_39164_row10_col1\" class=\"data row10 col1\" >257992</td>\n",
              "      <td id=\"T_39164_row10_col2\" class=\"data row10 col2\" >410063</td>\n",
              "    </tr>\n",
              "    <tr>\n",
              "      <th id=\"T_39164_level0_row11\" class=\"row_heading level0 row11\" >September</th>\n",
              "      <td id=\"T_39164_row11_col0\" class=\"data row11 col0\" >219934</td>\n",
              "      <td id=\"T_39164_row11_col1\" class=\"data row11 col1\" >307487</td>\n",
              "      <td id=\"T_39164_row11_col2\" class=\"data row11 col2\" >527421</td>\n",
              "    </tr>\n",
              "  </tbody>\n",
              "</table>\n"
            ]
          },
          "metadata": {},
          "execution_count": 17
        }
      ]
    },
    {
      "cell_type": "code",
      "source": [
        "#Popular hour for riders\n",
        "hourly_pivot=pd.pivot_table(data_full, index=['hour'], values='ride_id', aggfunc='count', columns=['member_casual'])\n",
        "hourly_pivot['total riders']=hourly_pivot['casual']+hourly_pivot['member']\n",
        "hourly_pivot.style.highlight_max(subset=['casual','member','total riders'], color='green')"
      ],
      "metadata": {
        "colab": {
          "base_uri": "https://localhost:8080/",
          "height": 833
        },
        "id": "aG4WVAHe6NXG",
        "outputId": "4c44dc0d-13dd-4854-a6b0-75bd232781ca"
      },
      "execution_count": 19,
      "outputs": [
        {
          "output_type": "execute_result",
          "data": {
            "text/plain": [
              "<pandas.io.formats.style.Styler at 0x79f85620b640>"
            ],
            "text/html": [
              "<style type=\"text/css\">\n",
              "#T_d3189_row17_col0, #T_d3189_row17_col1, #T_d3189_row17_col2 {\n",
              "  background-color: green;\n",
              "}\n",
              "</style>\n",
              "<table id=\"T_d3189\" class=\"dataframe\">\n",
              "  <thead>\n",
              "    <tr>\n",
              "      <th class=\"index_name level0\" >member_casual</th>\n",
              "      <th id=\"T_d3189_level0_col0\" class=\"col_heading level0 col0\" >casual</th>\n",
              "      <th id=\"T_d3189_level0_col1\" class=\"col_heading level0 col1\" >member</th>\n",
              "      <th id=\"T_d3189_level0_col2\" class=\"col_heading level0 col2\" >total riders</th>\n",
              "    </tr>\n",
              "    <tr>\n",
              "      <th class=\"index_name level0\" >hour</th>\n",
              "      <th class=\"blank col0\" >&nbsp;</th>\n",
              "      <th class=\"blank col1\" >&nbsp;</th>\n",
              "      <th class=\"blank col2\" >&nbsp;</th>\n",
              "    </tr>\n",
              "  </thead>\n",
              "  <tbody>\n",
              "    <tr>\n",
              "      <th id=\"T_d3189_level0_row0\" class=\"row_heading level0 row0\" >0</th>\n",
              "      <td id=\"T_d3189_row0_col0\" class=\"data row0 col0\" >31833</td>\n",
              "      <td id=\"T_d3189_row0_col1\" class=\"data row0 col1\" >25146</td>\n",
              "      <td id=\"T_d3189_row0_col2\" class=\"data row0 col2\" >56979</td>\n",
              "    </tr>\n",
              "    <tr>\n",
              "      <th id=\"T_d3189_level0_row1\" class=\"row_heading level0 row1\" >1</th>\n",
              "      <td id=\"T_d3189_row1_col0\" class=\"data row1 col0\" >20697</td>\n",
              "      <td id=\"T_d3189_row1_col1\" class=\"data row1 col1\" >15345</td>\n",
              "      <td id=\"T_d3189_row1_col2\" class=\"data row1 col2\" >36042</td>\n",
              "    </tr>\n",
              "    <tr>\n",
              "      <th id=\"T_d3189_level0_row2\" class=\"row_heading level0 row2\" >2</th>\n",
              "      <td id=\"T_d3189_row2_col0\" class=\"data row2 col0\" >12439</td>\n",
              "      <td id=\"T_d3189_row2_col1\" class=\"data row2 col1\" >8753</td>\n",
              "      <td id=\"T_d3189_row2_col2\" class=\"data row2 col2\" >21192</td>\n",
              "    </tr>\n",
              "    <tr>\n",
              "      <th id=\"T_d3189_level0_row3\" class=\"row_heading level0 row3\" >3</th>\n",
              "      <td id=\"T_d3189_row3_col0\" class=\"data row3 col0\" >7071</td>\n",
              "      <td id=\"T_d3189_row3_col1\" class=\"data row3 col1\" >5332</td>\n",
              "      <td id=\"T_d3189_row3_col2\" class=\"data row3 col2\" >12403</td>\n",
              "    </tr>\n",
              "    <tr>\n",
              "      <th id=\"T_d3189_level0_row4\" class=\"row_heading level0 row4\" >4</th>\n",
              "      <td id=\"T_d3189_row4_col0\" class=\"data row4 col0\" >4785</td>\n",
              "      <td id=\"T_d3189_row4_col1\" class=\"data row4 col1\" >5923</td>\n",
              "      <td id=\"T_d3189_row4_col2\" class=\"data row4 col2\" >10708</td>\n",
              "    </tr>\n",
              "    <tr>\n",
              "      <th id=\"T_d3189_level0_row5\" class=\"row_heading level0 row5\" >5</th>\n",
              "      <td id=\"T_d3189_row5_col0\" class=\"data row5 col0\" >8686</td>\n",
              "      <td id=\"T_d3189_row5_col1\" class=\"data row5 col1\" >23744</td>\n",
              "      <td id=\"T_d3189_row5_col2\" class=\"data row5 col2\" >32430</td>\n",
              "    </tr>\n",
              "    <tr>\n",
              "      <th id=\"T_d3189_level0_row6\" class=\"row_heading level0 row6\" >6</th>\n",
              "      <td id=\"T_d3189_row6_col0\" class=\"data row6 col0\" >22612</td>\n",
              "      <td id=\"T_d3189_row6_col1\" class=\"data row6 col1\" >73194</td>\n",
              "      <td id=\"T_d3189_row6_col2\" class=\"data row6 col2\" >95806</td>\n",
              "    </tr>\n",
              "    <tr>\n",
              "      <th id=\"T_d3189_level0_row7\" class=\"row_heading level0 row7\" >7</th>\n",
              "      <td id=\"T_d3189_row7_col0\" class=\"data row7 col0\" >38717</td>\n",
              "      <td id=\"T_d3189_row7_col1\" class=\"data row7 col1\" >135784</td>\n",
              "      <td id=\"T_d3189_row7_col2\" class=\"data row7 col2\" >174501</td>\n",
              "    </tr>\n",
              "    <tr>\n",
              "      <th id=\"T_d3189_level0_row8\" class=\"row_heading level0 row8\" >8</th>\n",
              "      <td id=\"T_d3189_row8_col0\" class=\"data row8 col0\" >53084</td>\n",
              "      <td id=\"T_d3189_row8_col1\" class=\"data row8 col1\" >163827</td>\n",
              "      <td id=\"T_d3189_row8_col2\" class=\"data row8 col2\" >216911</td>\n",
              "    </tr>\n",
              "    <tr>\n",
              "      <th id=\"T_d3189_level0_row9\" class=\"row_heading level0 row9\" >9</th>\n",
              "      <td id=\"T_d3189_row9_col0\" class=\"data row9 col0\" >54219</td>\n",
              "      <td id=\"T_d3189_row9_col1\" class=\"data row9 col1\" >111479</td>\n",
              "      <td id=\"T_d3189_row9_col2\" class=\"data row9 col2\" >165698</td>\n",
              "    </tr>\n",
              "    <tr>\n",
              "      <th id=\"T_d3189_level0_row10\" class=\"row_heading level0 row10\" >10</th>\n",
              "      <td id=\"T_d3189_row10_col0\" class=\"data row10 col0\" >69145</td>\n",
              "      <td id=\"T_d3189_row10_col1\" class=\"data row10 col1\" >102041</td>\n",
              "      <td id=\"T_d3189_row10_col2\" class=\"data row10 col2\" >171186</td>\n",
              "    </tr>\n",
              "    <tr>\n",
              "      <th id=\"T_d3189_level0_row11\" class=\"row_heading level0 row11\" >11</th>\n",
              "      <td id=\"T_d3189_row11_col0\" class=\"data row11 col0\" >89056</td>\n",
              "      <td id=\"T_d3189_row11_col1\" class=\"data row11 col1\" >120772</td>\n",
              "      <td id=\"T_d3189_row11_col2\" class=\"data row11 col2\" >209828</td>\n",
              "    </tr>\n",
              "    <tr>\n",
              "      <th id=\"T_d3189_level0_row12\" class=\"row_heading level0 row12\" >12</th>\n",
              "      <td id=\"T_d3189_row12_col0\" class=\"data row12 col0\" >105301</td>\n",
              "      <td id=\"T_d3189_row12_col1\" class=\"data row12 col1\" >138572</td>\n",
              "      <td id=\"T_d3189_row12_col2\" class=\"data row12 col2\" >243873</td>\n",
              "    </tr>\n",
              "    <tr>\n",
              "      <th id=\"T_d3189_level0_row13\" class=\"row_heading level0 row13\" >13</th>\n",
              "      <td id=\"T_d3189_row13_col0\" class=\"data row13 col0\" >109246</td>\n",
              "      <td id=\"T_d3189_row13_col1\" class=\"data row13 col1\" >137237</td>\n",
              "      <td id=\"T_d3189_row13_col2\" class=\"data row13 col2\" >246483</td>\n",
              "    </tr>\n",
              "    <tr>\n",
              "      <th id=\"T_d3189_level0_row14\" class=\"row_heading level0 row14\" >14</th>\n",
              "      <td id=\"T_d3189_row14_col0\" class=\"data row14 col0\" >115536</td>\n",
              "      <td id=\"T_d3189_row14_col1\" class=\"data row14 col1\" >137701</td>\n",
              "      <td id=\"T_d3189_row14_col2\" class=\"data row14 col2\" >253237</td>\n",
              "    </tr>\n",
              "    <tr>\n",
              "      <th id=\"T_d3189_level0_row15\" class=\"row_heading level0 row15\" >15</th>\n",
              "      <td id=\"T_d3189_row15_col0\" class=\"data row15 col0\" >129317</td>\n",
              "      <td id=\"T_d3189_row15_col1\" class=\"data row15 col1\" >168742</td>\n",
              "      <td id=\"T_d3189_row15_col2\" class=\"data row15 col2\" >298059</td>\n",
              "    </tr>\n",
              "    <tr>\n",
              "      <th id=\"T_d3189_level0_row16\" class=\"row_heading level0 row16\" >16</th>\n",
              "      <td id=\"T_d3189_row16_col0\" class=\"data row16 col0\" >146531</td>\n",
              "      <td id=\"T_d3189_row16_col1\" class=\"data row16 col1\" >227987</td>\n",
              "      <td id=\"T_d3189_row16_col2\" class=\"data row16 col2\" >374518</td>\n",
              "    </tr>\n",
              "    <tr>\n",
              "      <th id=\"T_d3189_level0_row17\" class=\"row_heading level0 row17\" >17</th>\n",
              "      <td id=\"T_d3189_row17_col0\" class=\"data row17 col0\" >164444</td>\n",
              "      <td id=\"T_d3189_row17_col1\" class=\"data row17 col1\" >274483</td>\n",
              "      <td id=\"T_d3189_row17_col2\" class=\"data row17 col2\" >438927</td>\n",
              "    </tr>\n",
              "    <tr>\n",
              "      <th id=\"T_d3189_level0_row18\" class=\"row_heading level0 row18\" >18</th>\n",
              "      <td id=\"T_d3189_row18_col0\" class=\"data row18 col0\" >144618</td>\n",
              "      <td id=\"T_d3189_row18_col1\" class=\"data row18 col1\" >218323</td>\n",
              "      <td id=\"T_d3189_row18_col2\" class=\"data row18 col2\" >362941</td>\n",
              "    </tr>\n",
              "    <tr>\n",
              "      <th id=\"T_d3189_level0_row19\" class=\"row_heading level0 row19\" >19</th>\n",
              "      <td id=\"T_d3189_row19_col0\" class=\"data row19 col0\" >108110</td>\n",
              "      <td id=\"T_d3189_row19_col1\" class=\"data row19 col1\" >154979</td>\n",
              "      <td id=\"T_d3189_row19_col2\" class=\"data row19 col2\" >263089</td>\n",
              "    </tr>\n",
              "    <tr>\n",
              "      <th id=\"T_d3189_level0_row20\" class=\"row_heading level0 row20\" >20</th>\n",
              "      <td id=\"T_d3189_row20_col0\" class=\"data row20 col0\" >78892</td>\n",
              "      <td id=\"T_d3189_row20_col1\" class=\"data row20 col1\" >107481</td>\n",
              "      <td id=\"T_d3189_row20_col2\" class=\"data row20 col2\" >186373</td>\n",
              "    </tr>\n",
              "    <tr>\n",
              "      <th id=\"T_d3189_level0_row21\" class=\"row_heading level0 row21\" >21</th>\n",
              "      <td id=\"T_d3189_row21_col0\" class=\"data row21 col0\" >66919</td>\n",
              "      <td id=\"T_d3189_row21_col1\" class=\"data row21 col1\" >83001</td>\n",
              "      <td id=\"T_d3189_row21_col2\" class=\"data row21 col2\" >149920</td>\n",
              "    </tr>\n",
              "    <tr>\n",
              "      <th id=\"T_d3189_level0_row22\" class=\"row_heading level0 row22\" >22</th>\n",
              "      <td id=\"T_d3189_row22_col0\" class=\"data row22 col0\" >59450</td>\n",
              "      <td id=\"T_d3189_row22_col1\" class=\"data row22 col1\" >62016</td>\n",
              "      <td id=\"T_d3189_row22_col2\" class=\"data row22 col2\" >121466</td>\n",
              "    </tr>\n",
              "    <tr>\n",
              "      <th id=\"T_d3189_level0_row23\" class=\"row_heading level0 row23\" >23</th>\n",
              "      <td id=\"T_d3189_row23_col0\" class=\"data row23 col0\" >43909</td>\n",
              "      <td id=\"T_d3189_row23_col1\" class=\"data row23 col1\" >39944</td>\n",
              "      <td id=\"T_d3189_row23_col2\" class=\"data row23 col2\" >83853</td>\n",
              "    </tr>\n",
              "  </tbody>\n",
              "</table>\n"
            ]
          },
          "metadata": {},
          "execution_count": 19
        }
      ]
    },
    {
      "cell_type": "code",
      "source": [
        "#Creating pivot table for start station.\n",
        "start_stn_pivot=pd.pivot_table(data_full, index=['start_station_name'], values='ride_id', aggfunc='count', columns=['member_casual'])\n",
        "start_stn_pivot['total riders']=start_stn_pivot['casual']+start_stn_pivot['member']\n",
        "start_stn_pivot=start_stn_pivot.sort_values(by='total riders', ascending=False)\n",
        "start_stn_pivot=start_stn_pivot.head(10)\n",
        "start_stn_pivot"
      ],
      "metadata": {
        "id": "Na3If_X3u8EX",
        "colab": {
          "base_uri": "https://localhost:8080/",
          "height": 394
        },
        "outputId": "a89756e5-e184-4039-f4ca-2140b1645d62"
      },
      "execution_count": 20,
      "outputs": [
        {
          "output_type": "execute_result",
          "data": {
            "text/plain": [
              "member_casual                        casual   member  total riders\n",
              "start_station_name                                                \n",
              "Streeter Dr & Grand Ave             48488.0  14935.0       63423.0\n",
              "DuSable Lake Shore Dr & Monroe St   27120.0   7925.0       35045.0\n",
              "DuSable Lake Shore Dr & North Blvd  19607.0  13747.0       33354.0\n",
              "Michigan Ave & Oak St               20598.0  12273.0       32871.0\n",
              "Wells St & Concord Ln               13705.0  18411.0       32116.0\n",
              "Clark St & Elm St                   10917.0  19588.0       30505.0\n",
              "Millennium Park                     21322.0   8308.0       29630.0\n",
              "Kingsbury St & Kinzie St             7895.0  21330.0       29225.0\n",
              "Theater on the Lake                 15692.0  12581.0       28273.0\n",
              "Wells St & Elm St                   10490.0  16765.0       27255.0"
            ],
            "text/html": [
              "\n",
              "  <div id=\"df-8eaf7236-6028-4249-be1f-2f26a4e1f8d8\" class=\"colab-df-container\">\n",
              "    <div>\n",
              "<style scoped>\n",
              "    .dataframe tbody tr th:only-of-type {\n",
              "        vertical-align: middle;\n",
              "    }\n",
              "\n",
              "    .dataframe tbody tr th {\n",
              "        vertical-align: top;\n",
              "    }\n",
              "\n",
              "    .dataframe thead th {\n",
              "        text-align: right;\n",
              "    }\n",
              "</style>\n",
              "<table border=\"1\" class=\"dataframe\">\n",
              "  <thead>\n",
              "    <tr style=\"text-align: right;\">\n",
              "      <th>member_casual</th>\n",
              "      <th>casual</th>\n",
              "      <th>member</th>\n",
              "      <th>total riders</th>\n",
              "    </tr>\n",
              "    <tr>\n",
              "      <th>start_station_name</th>\n",
              "      <th></th>\n",
              "      <th></th>\n",
              "      <th></th>\n",
              "    </tr>\n",
              "  </thead>\n",
              "  <tbody>\n",
              "    <tr>\n",
              "      <th>Streeter Dr &amp; Grand Ave</th>\n",
              "      <td>48488.0</td>\n",
              "      <td>14935.0</td>\n",
              "      <td>63423.0</td>\n",
              "    </tr>\n",
              "    <tr>\n",
              "      <th>DuSable Lake Shore Dr &amp; Monroe St</th>\n",
              "      <td>27120.0</td>\n",
              "      <td>7925.0</td>\n",
              "      <td>35045.0</td>\n",
              "    </tr>\n",
              "    <tr>\n",
              "      <th>DuSable Lake Shore Dr &amp; North Blvd</th>\n",
              "      <td>19607.0</td>\n",
              "      <td>13747.0</td>\n",
              "      <td>33354.0</td>\n",
              "    </tr>\n",
              "    <tr>\n",
              "      <th>Michigan Ave &amp; Oak St</th>\n",
              "      <td>20598.0</td>\n",
              "      <td>12273.0</td>\n",
              "      <td>32871.0</td>\n",
              "    </tr>\n",
              "    <tr>\n",
              "      <th>Wells St &amp; Concord Ln</th>\n",
              "      <td>13705.0</td>\n",
              "      <td>18411.0</td>\n",
              "      <td>32116.0</td>\n",
              "    </tr>\n",
              "    <tr>\n",
              "      <th>Clark St &amp; Elm St</th>\n",
              "      <td>10917.0</td>\n",
              "      <td>19588.0</td>\n",
              "      <td>30505.0</td>\n",
              "    </tr>\n",
              "    <tr>\n",
              "      <th>Millennium Park</th>\n",
              "      <td>21322.0</td>\n",
              "      <td>8308.0</td>\n",
              "      <td>29630.0</td>\n",
              "    </tr>\n",
              "    <tr>\n",
              "      <th>Kingsbury St &amp; Kinzie St</th>\n",
              "      <td>7895.0</td>\n",
              "      <td>21330.0</td>\n",
              "      <td>29225.0</td>\n",
              "    </tr>\n",
              "    <tr>\n",
              "      <th>Theater on the Lake</th>\n",
              "      <td>15692.0</td>\n",
              "      <td>12581.0</td>\n",
              "      <td>28273.0</td>\n",
              "    </tr>\n",
              "    <tr>\n",
              "      <th>Wells St &amp; Elm St</th>\n",
              "      <td>10490.0</td>\n",
              "      <td>16765.0</td>\n",
              "      <td>27255.0</td>\n",
              "    </tr>\n",
              "  </tbody>\n",
              "</table>\n",
              "</div>\n",
              "    <div class=\"colab-df-buttons\">\n",
              "\n",
              "  <div class=\"colab-df-container\">\n",
              "    <button class=\"colab-df-convert\" onclick=\"convertToInteractive('df-8eaf7236-6028-4249-be1f-2f26a4e1f8d8')\"\n",
              "            title=\"Convert this dataframe to an interactive table.\"\n",
              "            style=\"display:none;\">\n",
              "\n",
              "  <svg xmlns=\"http://www.w3.org/2000/svg\" height=\"24px\" viewBox=\"0 -960 960 960\">\n",
              "    <path d=\"M120-120v-720h720v720H120Zm60-500h600v-160H180v160Zm220 220h160v-160H400v160Zm0 220h160v-160H400v160ZM180-400h160v-160H180v160Zm440 0h160v-160H620v160ZM180-180h160v-160H180v160Zm440 0h160v-160H620v160Z\"/>\n",
              "  </svg>\n",
              "    </button>\n",
              "\n",
              "  <style>\n",
              "    .colab-df-container {\n",
              "      display:flex;\n",
              "      gap: 12px;\n",
              "    }\n",
              "\n",
              "    .colab-df-convert {\n",
              "      background-color: #E8F0FE;\n",
              "      border: none;\n",
              "      border-radius: 50%;\n",
              "      cursor: pointer;\n",
              "      display: none;\n",
              "      fill: #1967D2;\n",
              "      height: 32px;\n",
              "      padding: 0 0 0 0;\n",
              "      width: 32px;\n",
              "    }\n",
              "\n",
              "    .colab-df-convert:hover {\n",
              "      background-color: #E2EBFA;\n",
              "      box-shadow: 0px 1px 2px rgba(60, 64, 67, 0.3), 0px 1px 3px 1px rgba(60, 64, 67, 0.15);\n",
              "      fill: #174EA6;\n",
              "    }\n",
              "\n",
              "    .colab-df-buttons div {\n",
              "      margin-bottom: 4px;\n",
              "    }\n",
              "\n",
              "    [theme=dark] .colab-df-convert {\n",
              "      background-color: #3B4455;\n",
              "      fill: #D2E3FC;\n",
              "    }\n",
              "\n",
              "    [theme=dark] .colab-df-convert:hover {\n",
              "      background-color: #434B5C;\n",
              "      box-shadow: 0px 1px 3px 1px rgba(0, 0, 0, 0.15);\n",
              "      filter: drop-shadow(0px 1px 2px rgba(0, 0, 0, 0.3));\n",
              "      fill: #FFFFFF;\n",
              "    }\n",
              "  </style>\n",
              "\n",
              "    <script>\n",
              "      const buttonEl =\n",
              "        document.querySelector('#df-8eaf7236-6028-4249-be1f-2f26a4e1f8d8 button.colab-df-convert');\n",
              "      buttonEl.style.display =\n",
              "        google.colab.kernel.accessAllowed ? 'block' : 'none';\n",
              "\n",
              "      async function convertToInteractive(key) {\n",
              "        const element = document.querySelector('#df-8eaf7236-6028-4249-be1f-2f26a4e1f8d8');\n",
              "        const dataTable =\n",
              "          await google.colab.kernel.invokeFunction('convertToInteractive',\n",
              "                                                    [key], {});\n",
              "        if (!dataTable) return;\n",
              "\n",
              "        const docLinkHtml = 'Like what you see? Visit the ' +\n",
              "          '<a target=\"_blank\" href=https://colab.research.google.com/notebooks/data_table.ipynb>data table notebook</a>'\n",
              "          + ' to learn more about interactive tables.';\n",
              "        element.innerHTML = '';\n",
              "        dataTable['output_type'] = 'display_data';\n",
              "        await google.colab.output.renderOutput(dataTable, element);\n",
              "        const docLink = document.createElement('div');\n",
              "        docLink.innerHTML = docLinkHtml;\n",
              "        element.appendChild(docLink);\n",
              "      }\n",
              "    </script>\n",
              "  </div>\n",
              "\n",
              "\n",
              "<div id=\"df-1044b0fb-8491-44cc-8bdc-687fcaae1981\">\n",
              "  <button class=\"colab-df-quickchart\" onclick=\"quickchart('df-1044b0fb-8491-44cc-8bdc-687fcaae1981')\"\n",
              "            title=\"Suggest charts.\"\n",
              "            style=\"display:none;\">\n",
              "\n",
              "<svg xmlns=\"http://www.w3.org/2000/svg\" height=\"24px\"viewBox=\"0 0 24 24\"\n",
              "     width=\"24px\">\n",
              "    <g>\n",
              "        <path d=\"M19 3H5c-1.1 0-2 .9-2 2v14c0 1.1.9 2 2 2h14c1.1 0 2-.9 2-2V5c0-1.1-.9-2-2-2zM9 17H7v-7h2v7zm4 0h-2V7h2v10zm4 0h-2v-4h2v4z\"/>\n",
              "    </g>\n",
              "</svg>\n",
              "  </button>\n",
              "\n",
              "<style>\n",
              "  .colab-df-quickchart {\n",
              "    background-color: #E8F0FE;\n",
              "    border: none;\n",
              "    border-radius: 50%;\n",
              "    cursor: pointer;\n",
              "    display: none;\n",
              "    fill: #1967D2;\n",
              "    height: 32px;\n",
              "    padding: 0 0 0 0;\n",
              "    width: 32px;\n",
              "  }\n",
              "\n",
              "  .colab-df-quickchart:hover {\n",
              "    background-color: #E2EBFA;\n",
              "    box-shadow: 0px 1px 2px rgba(60, 64, 67, 0.3), 0px 1px 3px 1px rgba(60, 64, 67, 0.15);\n",
              "    fill: #174EA6;\n",
              "  }\n",
              "\n",
              "  [theme=dark] .colab-df-quickchart {\n",
              "    background-color: #3B4455;\n",
              "    fill: #D2E3FC;\n",
              "  }\n",
              "\n",
              "  [theme=dark] .colab-df-quickchart:hover {\n",
              "    background-color: #434B5C;\n",
              "    box-shadow: 0px 1px 3px 1px rgba(0, 0, 0, 0.15);\n",
              "    filter: drop-shadow(0px 1px 2px rgba(0, 0, 0, 0.3));\n",
              "    fill: #FFFFFF;\n",
              "  }\n",
              "</style>\n",
              "\n",
              "  <script>\n",
              "    async function quickchart(key) {\n",
              "      const charts = await google.colab.kernel.invokeFunction(\n",
              "          'suggestCharts', [key], {});\n",
              "    }\n",
              "    (() => {\n",
              "      let quickchartButtonEl =\n",
              "        document.querySelector('#df-1044b0fb-8491-44cc-8bdc-687fcaae1981 button');\n",
              "      quickchartButtonEl.style.display =\n",
              "        google.colab.kernel.accessAllowed ? 'block' : 'none';\n",
              "    })();\n",
              "  </script>\n",
              "</div>\n",
              "    </div>\n",
              "  </div>\n"
            ]
          },
          "metadata": {},
          "execution_count": 20
        }
      ]
    },
    {
      "cell_type": "code",
      "execution_count": 23,
      "metadata": {
        "colab": {
          "base_uri": "https://localhost:8080/",
          "height": 174
        },
        "id": "35dBm5VjxRBw",
        "outputId": "188be62a-200f-401a-eea8-2757f91bb2bd"
      },
      "outputs": [
        {
          "output_type": "execute_result",
          "data": {
            "text/plain": [
              "<pandas.io.formats.style.Styler at 0x79f781df2200>"
            ],
            "text/html": [
              "<style type=\"text/css\">\n",
              "#T_9e42b_row0_col1 {\n",
              "  background-color: green;\n",
              "}\n",
              "</style>\n",
              "<table id=\"T_9e42b\" class=\"dataframe\">\n",
              "  <thead>\n",
              "    <tr>\n",
              "      <th class=\"index_name level0\" >member_casual</th>\n",
              "      <th id=\"T_9e42b_level0_col0\" class=\"col_heading level0 col0\" >casual</th>\n",
              "      <th id=\"T_9e42b_level0_col1\" class=\"col_heading level0 col1\" >member</th>\n",
              "      <th id=\"T_9e42b_level0_col2\" class=\"col_heading level0 col2\" >total riders</th>\n",
              "    </tr>\n",
              "    <tr>\n",
              "      <th class=\"index_name level0\" >start_station_name</th>\n",
              "      <th class=\"blank col0\" >&nbsp;</th>\n",
              "      <th class=\"blank col1\" >&nbsp;</th>\n",
              "      <th class=\"blank col2\" >&nbsp;</th>\n",
              "    </tr>\n",
              "  </thead>\n",
              "  <tbody>\n",
              "    <tr>\n",
              "      <th id=\"T_9e42b_level0_row0\" class=\"row_heading level0 row0\" >Kingsbury St & Kinzie St</th>\n",
              "      <td id=\"T_9e42b_row0_col0\" class=\"data row0 col0\" >7895.000000</td>\n",
              "      <td id=\"T_9e42b_row0_col1\" class=\"data row0 col1\" >21330.000000</td>\n",
              "      <td id=\"T_9e42b_row0_col2\" class=\"data row0 col2\" >29225.000000</td>\n",
              "    </tr>\n",
              "    <tr>\n",
              "      <th id=\"T_9e42b_level0_row1\" class=\"row_heading level0 row1\" >Clark St & Elm St</th>\n",
              "      <td id=\"T_9e42b_row1_col0\" class=\"data row1 col0\" >10917.000000</td>\n",
              "      <td id=\"T_9e42b_row1_col1\" class=\"data row1 col1\" >19588.000000</td>\n",
              "      <td id=\"T_9e42b_row1_col2\" class=\"data row1 col2\" >30505.000000</td>\n",
              "    </tr>\n",
              "    <tr>\n",
              "      <th id=\"T_9e42b_level0_row2\" class=\"row_heading level0 row2\" >Wells St & Concord Ln</th>\n",
              "      <td id=\"T_9e42b_row2_col0\" class=\"data row2 col0\" >13705.000000</td>\n",
              "      <td id=\"T_9e42b_row2_col1\" class=\"data row2 col1\" >18411.000000</td>\n",
              "      <td id=\"T_9e42b_row2_col2\" class=\"data row2 col2\" >32116.000000</td>\n",
              "    </tr>\n",
              "  </tbody>\n",
              "</table>\n"
            ]
          },
          "metadata": {},
          "execution_count": 23
        }
      ],
      "source": [
        "#Top 3 start stations for annual membership riders\n",
        "start_stn_member=start_stn_pivot.sort_values(by=['member'], ascending=False)\n",
        "start_stn_member=start_stn_member.head(3)\n",
        "start_stn_member.style.highlight_max(subset='member', color='green')"
      ]
    },
    {
      "cell_type": "code",
      "source": [
        "#Top 3 start stations for casual riders\n",
        "start_stn_casual=start_stn_pivot.sort_values(by=['casual'], ascending=False)\n",
        "start_stn_casual=start_stn_casual.head(3)\n",
        "start_stn_casual.style.highlight_max(subset='casual', color='green')"
      ],
      "metadata": {
        "colab": {
          "base_uri": "https://localhost:8080/",
          "height": 174
        },
        "id": "snoMCsOfxBPx",
        "outputId": "6682e8a7-c645-46dd-ae48-b1b9cf299592"
      },
      "execution_count": 24,
      "outputs": [
        {
          "output_type": "execute_result",
          "data": {
            "text/plain": [
              "<pandas.io.formats.style.Styler at 0x79f781df2260>"
            ],
            "text/html": [
              "<style type=\"text/css\">\n",
              "#T_7ca6d_row0_col0 {\n",
              "  background-color: green;\n",
              "}\n",
              "</style>\n",
              "<table id=\"T_7ca6d\" class=\"dataframe\">\n",
              "  <thead>\n",
              "    <tr>\n",
              "      <th class=\"index_name level0\" >member_casual</th>\n",
              "      <th id=\"T_7ca6d_level0_col0\" class=\"col_heading level0 col0\" >casual</th>\n",
              "      <th id=\"T_7ca6d_level0_col1\" class=\"col_heading level0 col1\" >member</th>\n",
              "      <th id=\"T_7ca6d_level0_col2\" class=\"col_heading level0 col2\" >total riders</th>\n",
              "    </tr>\n",
              "    <tr>\n",
              "      <th class=\"index_name level0\" >start_station_name</th>\n",
              "      <th class=\"blank col0\" >&nbsp;</th>\n",
              "      <th class=\"blank col1\" >&nbsp;</th>\n",
              "      <th class=\"blank col2\" >&nbsp;</th>\n",
              "    </tr>\n",
              "  </thead>\n",
              "  <tbody>\n",
              "    <tr>\n",
              "      <th id=\"T_7ca6d_level0_row0\" class=\"row_heading level0 row0\" >Streeter Dr & Grand Ave</th>\n",
              "      <td id=\"T_7ca6d_row0_col0\" class=\"data row0 col0\" >48488.000000</td>\n",
              "      <td id=\"T_7ca6d_row0_col1\" class=\"data row0 col1\" >14935.000000</td>\n",
              "      <td id=\"T_7ca6d_row0_col2\" class=\"data row0 col2\" >63423.000000</td>\n",
              "    </tr>\n",
              "    <tr>\n",
              "      <th id=\"T_7ca6d_level0_row1\" class=\"row_heading level0 row1\" >DuSable Lake Shore Dr & Monroe St</th>\n",
              "      <td id=\"T_7ca6d_row1_col0\" class=\"data row1 col0\" >27120.000000</td>\n",
              "      <td id=\"T_7ca6d_row1_col1\" class=\"data row1 col1\" >7925.000000</td>\n",
              "      <td id=\"T_7ca6d_row1_col2\" class=\"data row1 col2\" >35045.000000</td>\n",
              "    </tr>\n",
              "    <tr>\n",
              "      <th id=\"T_7ca6d_level0_row2\" class=\"row_heading level0 row2\" >Millennium Park</th>\n",
              "      <td id=\"T_7ca6d_row2_col0\" class=\"data row2 col0\" >21322.000000</td>\n",
              "      <td id=\"T_7ca6d_row2_col1\" class=\"data row2 col1\" >8308.000000</td>\n",
              "      <td id=\"T_7ca6d_row2_col2\" class=\"data row2 col2\" >29630.000000</td>\n",
              "    </tr>\n",
              "  </tbody>\n",
              "</table>\n"
            ]
          },
          "metadata": {},
          "execution_count": 24
        }
      ]
    },
    {
      "cell_type": "code",
      "execution_count": 25,
      "metadata": {
        "colab": {
          "base_uri": "https://localhost:8080/",
          "height": 394
        },
        "id": "ySwkGIkC16UG",
        "outputId": "92643a82-bb23-4303-94f9-438e9428f15b"
      },
      "outputs": [
        {
          "output_type": "execute_result",
          "data": {
            "text/plain": [
              "<pandas.io.formats.style.Styler at 0x79f781df05b0>"
            ],
            "text/html": [
              "<style type=\"text/css\">\n",
              "#T_45260_row4_col3, #T_45260_row5_col3, #T_45260_row7_col3, #T_45260_row9_col3 {\n",
              "  background-color: green;\n",
              "}\n",
              "</style>\n",
              "<table id=\"T_45260\" class=\"dataframe\">\n",
              "  <thead>\n",
              "    <tr>\n",
              "      <th class=\"index_name level0\" >member_casual</th>\n",
              "      <th id=\"T_45260_level0_col0\" class=\"col_heading level0 col0\" >casual</th>\n",
              "      <th id=\"T_45260_level0_col1\" class=\"col_heading level0 col1\" >member</th>\n",
              "      <th id=\"T_45260_level0_col2\" class=\"col_heading level0 col2\" >total riders</th>\n",
              "      <th id=\"T_45260_level0_col3\" class=\"col_heading level0 col3\" >%member</th>\n",
              "    </tr>\n",
              "    <tr>\n",
              "      <th class=\"index_name level0\" >start_station_name</th>\n",
              "      <th class=\"blank col0\" >&nbsp;</th>\n",
              "      <th class=\"blank col1\" >&nbsp;</th>\n",
              "      <th class=\"blank col2\" >&nbsp;</th>\n",
              "      <th class=\"blank col3\" >&nbsp;</th>\n",
              "    </tr>\n",
              "  </thead>\n",
              "  <tbody>\n",
              "    <tr>\n",
              "      <th id=\"T_45260_level0_row0\" class=\"row_heading level0 row0\" >Streeter Dr & Grand Ave</th>\n",
              "      <td id=\"T_45260_row0_col0\" class=\"data row0 col0\" >48488.000000</td>\n",
              "      <td id=\"T_45260_row0_col1\" class=\"data row0 col1\" >14935.000000</td>\n",
              "      <td id=\"T_45260_row0_col2\" class=\"data row0 col2\" >63423.000000</td>\n",
              "      <td id=\"T_45260_row0_col3\" class=\"data row0 col3\" >23.548240</td>\n",
              "    </tr>\n",
              "    <tr>\n",
              "      <th id=\"T_45260_level0_row1\" class=\"row_heading level0 row1\" >DuSable Lake Shore Dr & Monroe St</th>\n",
              "      <td id=\"T_45260_row1_col0\" class=\"data row1 col0\" >27120.000000</td>\n",
              "      <td id=\"T_45260_row1_col1\" class=\"data row1 col1\" >7925.000000</td>\n",
              "      <td id=\"T_45260_row1_col2\" class=\"data row1 col2\" >35045.000000</td>\n",
              "      <td id=\"T_45260_row1_col3\" class=\"data row1 col3\" >22.613782</td>\n",
              "    </tr>\n",
              "    <tr>\n",
              "      <th id=\"T_45260_level0_row2\" class=\"row_heading level0 row2\" >DuSable Lake Shore Dr & North Blvd</th>\n",
              "      <td id=\"T_45260_row2_col0\" class=\"data row2 col0\" >19607.000000</td>\n",
              "      <td id=\"T_45260_row2_col1\" class=\"data row2 col1\" >13747.000000</td>\n",
              "      <td id=\"T_45260_row2_col2\" class=\"data row2 col2\" >33354.000000</td>\n",
              "      <td id=\"T_45260_row2_col3\" class=\"data row2 col3\" >41.215446</td>\n",
              "    </tr>\n",
              "    <tr>\n",
              "      <th id=\"T_45260_level0_row3\" class=\"row_heading level0 row3\" >Michigan Ave & Oak St</th>\n",
              "      <td id=\"T_45260_row3_col0\" class=\"data row3 col0\" >20598.000000</td>\n",
              "      <td id=\"T_45260_row3_col1\" class=\"data row3 col1\" >12273.000000</td>\n",
              "      <td id=\"T_45260_row3_col2\" class=\"data row3 col2\" >32871.000000</td>\n",
              "      <td id=\"T_45260_row3_col3\" class=\"data row3 col3\" >37.336862</td>\n",
              "    </tr>\n",
              "    <tr>\n",
              "      <th id=\"T_45260_level0_row4\" class=\"row_heading level0 row4\" >Wells St & Concord Ln</th>\n",
              "      <td id=\"T_45260_row4_col0\" class=\"data row4 col0\" >13705.000000</td>\n",
              "      <td id=\"T_45260_row4_col1\" class=\"data row4 col1\" >18411.000000</td>\n",
              "      <td id=\"T_45260_row4_col2\" class=\"data row4 col2\" >32116.000000</td>\n",
              "      <td id=\"T_45260_row4_col3\" class=\"data row4 col3\" >57.326566</td>\n",
              "    </tr>\n",
              "    <tr>\n",
              "      <th id=\"T_45260_level0_row5\" class=\"row_heading level0 row5\" >Clark St & Elm St</th>\n",
              "      <td id=\"T_45260_row5_col0\" class=\"data row5 col0\" >10917.000000</td>\n",
              "      <td id=\"T_45260_row5_col1\" class=\"data row5 col1\" >19588.000000</td>\n",
              "      <td id=\"T_45260_row5_col2\" class=\"data row5 col2\" >30505.000000</td>\n",
              "      <td id=\"T_45260_row5_col3\" class=\"data row5 col3\" >64.212424</td>\n",
              "    </tr>\n",
              "    <tr>\n",
              "      <th id=\"T_45260_level0_row6\" class=\"row_heading level0 row6\" >Millennium Park</th>\n",
              "      <td id=\"T_45260_row6_col0\" class=\"data row6 col0\" >21322.000000</td>\n",
              "      <td id=\"T_45260_row6_col1\" class=\"data row6 col1\" >8308.000000</td>\n",
              "      <td id=\"T_45260_row6_col2\" class=\"data row6 col2\" >29630.000000</td>\n",
              "      <td id=\"T_45260_row6_col3\" class=\"data row6 col3\" >28.039150</td>\n",
              "    </tr>\n",
              "    <tr>\n",
              "      <th id=\"T_45260_level0_row7\" class=\"row_heading level0 row7\" >Kingsbury St & Kinzie St</th>\n",
              "      <td id=\"T_45260_row7_col0\" class=\"data row7 col0\" >7895.000000</td>\n",
              "      <td id=\"T_45260_row7_col1\" class=\"data row7 col1\" >21330.000000</td>\n",
              "      <td id=\"T_45260_row7_col2\" class=\"data row7 col2\" >29225.000000</td>\n",
              "      <td id=\"T_45260_row7_col3\" class=\"data row7 col3\" >72.985458</td>\n",
              "    </tr>\n",
              "    <tr>\n",
              "      <th id=\"T_45260_level0_row8\" class=\"row_heading level0 row8\" >Theater on the Lake</th>\n",
              "      <td id=\"T_45260_row8_col0\" class=\"data row8 col0\" >15692.000000</td>\n",
              "      <td id=\"T_45260_row8_col1\" class=\"data row8 col1\" >12581.000000</td>\n",
              "      <td id=\"T_45260_row8_col2\" class=\"data row8 col2\" >28273.000000</td>\n",
              "      <td id=\"T_45260_row8_col3\" class=\"data row8 col3\" >44.498285</td>\n",
              "    </tr>\n",
              "    <tr>\n",
              "      <th id=\"T_45260_level0_row9\" class=\"row_heading level0 row9\" >Wells St & Elm St</th>\n",
              "      <td id=\"T_45260_row9_col0\" class=\"data row9 col0\" >10490.000000</td>\n",
              "      <td id=\"T_45260_row9_col1\" class=\"data row9 col1\" >16765.000000</td>\n",
              "      <td id=\"T_45260_row9_col2\" class=\"data row9 col2\" >27255.000000</td>\n",
              "      <td id=\"T_45260_row9_col3\" class=\"data row9 col3\" >61.511649</td>\n",
              "    </tr>\n",
              "  </tbody>\n",
              "</table>\n"
            ]
          },
          "metadata": {},
          "execution_count": 25
        }
      ],
      "source": [
        "#Top 10 stations with most number of riders\n",
        "#define function for conditional formatting\n",
        "def cond_formatting(x):\n",
        "    if x > 50.0:\n",
        "        return 'background-color: green'\n",
        "    else:\n",
        "        return None\n",
        "#display DataFrame with conditional formatting applied\n",
        "start_stn_total=start_stn_pivot.sort_values(by=['total riders'], ascending=False)\n",
        "start_stn_total=start_stn_total.head(10)\n",
        "start_stn_total\n",
        "#Adding column to display member percentage\n",
        "start_stn_total['%member']=start_stn_total['member']/start_stn_total['total riders']*100\n",
        "#Highlighting column with more than 50% of the riders being annual members.\n",
        "start_stn_total_green=start_stn_total.style.applymap(cond_formatting, subset=['%member'],)\n",
        "start_stn_total_green"
      ]
    },
    {
      "cell_type": "markdown",
      "source": [
        "**Data Visualizations**\n",
        "\n",
        "Visualizing the information we have discovered through our analysis."
      ],
      "metadata": {
        "id": "aT5pEi8a0FWL"
      }
    },
    {
      "cell_type": "code",
      "source": [
        "#Pie chart displaying percentage of rider type.\n",
        "rider_type['ride_id'].plot.pie(x='member_casual', ylabel='Total Number of Rides',fontsize='8',autopct='%1.0f%%', figsize=(5, 5)).legend(loc='upper left',title=\"Riders Type\")\n",
        "plt.show()"
      ],
      "metadata": {
        "colab": {
          "base_uri": "https://localhost:8080/",
          "height": 422
        },
        "id": "nGPAv6-mtV57",
        "outputId": "b8f865e9-c385-40ee-83cc-235f8d7619c9"
      },
      "execution_count": 26,
      "outputs": [
        {
          "output_type": "display_data",
          "data": {
            "text/plain": [
              "<Figure size 500x500 with 1 Axes>"
            ],
            "image/png": "[encoded data removed]"
          },
          "metadata": {}
        }
      ]
    },
    {
      "cell_type": "markdown",
      "source": [
        "The pie chart shows that annual members represent the majority of Cyclistic's riders, making up for 60% of total users."
      ],
      "metadata": {
        "id": "_pt_xGWahaiT"
      }
    },
    {
      "cell_type": "code",
      "source": [
        "#Bar chart for most popular rideable type for different rider types.\n",
        "df0 = data_full[['rideable_type', 'member_casual', 'ride_id']]\n",
        "df0 = df0.groupby(['rideable_type', 'member_casual'], as_index=False)[['ride_id']].count()\n",
        "\n",
        "plt.figure(figsize = (7,4))\n",
        "plt.ticklabel_format(style='plain', axis='x')\n",
        "sns.barplot(x='ride_id', y='rideable_type', hue='member_casual', palette='tab10', data=df0).set_title('Most Popular Rideable Type')\n",
        "\n",
        "plt.xlabel('Number of Rides')\n",
        "plt.ylabel('Rideable Type')\n",
        "plt.show()"
      ],
      "metadata": {
        "colab": {
          "base_uri": "https://localhost:8080/",
          "height": 410
        },
        "id": "-H8qdJCaRjx1",
        "outputId": "0e42f0d6-8994-4d26-b323-6dcdcd9b75d0"
      },
      "execution_count": 27,
      "outputs": [
        {
          "output_type": "display_data",
          "data": {
            "text/plain": [
              "<Figure size 700x400 with 1 Axes>"
            ],
            "image/png": "[encoded data removed]"
          },
          "metadata": {}
        }
      ]
    },
    {
      "cell_type": "markdown",
      "source": [
        "It is clear in the visualization that classic bike is the most rented rideable type for annual members. Whereas, for casual riders, electric bikes are more popular."
      ],
      "metadata": {
        "id": "uKnfVGTJhln8"
      }
    },
    {
      "cell_type": "code",
      "source": [
        "#Weekday Visualization\n",
        "#Bar chart for most popular week day for different rider types.\n",
        "df1 = data_full.groupby(['dayofweek', 'member_casual'], as_index=False)[['ride_id']].count()\n",
        "plt.figure(figsize = (10,5))\n",
        "sns.barplot(data=df1, x='dayofweek', y='ride_id', hue='member_casual', palette='tab10').set_title('Popular Day for Bike Rentals')\n",
        "\n",
        "plt.xlabel('Day of the Week')\n",
        "plt.ylabel('Number of Rides')\n",
        "plt.show()"
      ],
      "metadata": {
        "colab": {
          "base_uri": "https://localhost:8080/",
          "height": 487
        },
        "id": "nIa-5GnM06GX",
        "outputId": "5616b460-b4f0-4bd7-90fe-35823beeeb5a"
      },
      "execution_count": 28,
      "outputs": [
        {
          "output_type": "display_data",
          "data": {
            "text/plain": [
              "<Figure size 1000x500 with 1 Axes>"
            ],
            "image/png": "[encoded data removed]"
          },
          "metadata": {}
        }
      ]
    },
    {
      "cell_type": "markdown",
      "source": [
        "The visualizations show that annual members consistently rent bikes on a daily basis while casual riders present lower weekday numbers compared to the weekend."
      ],
      "metadata": {
        "id": "LY807BZRh8mI"
      }
    },
    {
      "cell_type": "code",
      "source": [
        "#Month Visualization\n",
        "#Bar chart for most month for different rider types.\n",
        "df2 = data_full.groupby(['month', 'member_casual'], as_index=False)[['ride_id']].count()\n",
        "plt.figure(figsize = (12,5))\n",
        "sns.barplot(data=df2, x='month', y='ride_id', hue='member_casual', palette='tab10').set_title('Popular Month for Bike Rentals')\n",
        "\n",
        "plt.xlabel('Month')\n",
        "plt.ylabel('Number of Rides')\n",
        "plt.show()"
      ],
      "metadata": {
        "colab": {
          "base_uri": "https://localhost:8080/",
          "height": 487
        },
        "id": "6XQotGW-4biC",
        "outputId": "bfa1e3d9-e354-4638-a51c-4d09158f17b4"
      },
      "execution_count": 29,
      "outputs": [
        {
          "output_type": "display_data",
          "data": {
            "text/plain": [
              "<Figure size 1200x500 with 1 Axes>"
            ],
            "image/png": "[encoded data removed]"
          },
          "metadata": {}
        }
      ]
    },
    {
      "cell_type": "markdown",
      "source": [
        "July is the month with the most number of riders."
      ],
      "metadata": {
        "id": "6cgdaNHViLCX"
      }
    },
    {
      "cell_type": "code",
      "source": [
        "#Popular Hour Visualization\n",
        "df3 = data_full[['hour', 'member_casual', 'ride_id']]\n",
        "df3 = df3.groupby(['hour', 'member_casual'], as_index=False)[['ride_id']].count()\n",
        "\n",
        "plt.figure(figsize = (14,6))\n",
        "sns.lineplot(data=df3, x='hour', y='ride_id', hue='member_casual', palette='tab10',\n",
        "             style='member_casual', markers=True).set_title('Total Number of Rides per Hour')\n",
        "plt.xlabel('Hour')\n",
        "plt.ylabel('Number of Rides')\n",
        "plt.show()"
      ],
      "metadata": {
        "colab": {
          "base_uri": "https://localhost:8080/",
          "height": 551
        },
        "id": "pONwGaN9C-an",
        "outputId": "975cf288-ce29-4ad1-8f92-afe839e9c808"
      },
      "execution_count": 30,
      "outputs": [
        {
          "output_type": "display_data",
          "data": {
            "text/plain": [
              "<Figure size 1400x600 with 1 Axes>"
            ],
            "image/png": "[encoded data removed]"
          },
          "metadata": {}
        }
      ]
    },
    {
      "cell_type": "markdown",
      "source": [
        "The popular hour for both types of riders is 5 PM."
      ],
      "metadata": {
        "id": "GksTh5esidsO"
      }
    },
    {
      "cell_type": "code",
      "source": [
        "#Top 10 start stations visualization\n",
        "df4 = data_full.groupby(['start_station_name'], as_index=False)[['ride_id']].count()\n",
        "df4=df4.sort_values(by='ride_id', ascending=False)\n",
        "df4=df4.head(10)\n",
        "fig, ax = plt.subplots(figsize=(11, 4))\n",
        "ax.set_title('Top 10 Start Station with Most Riders')\n",
        "sns.barplot(data=df4, x='start_station_name', y='ride_id', ax=ax, palette='tab10')\n",
        "\n",
        "def wrap_labels(ax, width, break_long_words=False):\n",
        "    labels = []\n",
        "    for label in ax.get_xticklabels():\n",
        "        text = label.get_text()\n",
        "        labels.append(textwrap.fill(text, width=width,\n",
        "                      break_long_words=break_long_words))\n",
        "    ax.set_xticklabels(labels, rotation=0)\n",
        "wrap_labels(ax, 10)\n",
        "plt.xlabel('Start Station Name')\n",
        "plt.ylabel('Number of Rides')"
      ],
      "metadata": {
        "colab": {
          "base_uri": "https://localhost:8080/",
          "height": 476
        },
        "id": "5a8w-0dFBVy2",
        "outputId": "699864d4-8d76-4efd-fe59-dba8d6f8b4c0"
      },
      "execution_count": 31,
      "outputs": [
        {
          "output_type": "execute_result",
          "data": {
            "text/plain": [
              "Text(0, 0.5, 'Number of Rides')"
            ]
          },
          "metadata": {},
          "execution_count": 31
        },
        {
          "output_type": "display_data",
          "data": {
            "text/plain": [
              "<Figure size 1100x400 with 1 Axes>"
            ],
            "image/png": "[encoded data removed]"
          },
          "metadata": {}
        }
      ]
    },
    {
      "cell_type": "markdown",
      "source": [
        "**KEY FINDINGS:**\n",
        "\n",
        "\n",
        "* The total number of rides taken from June of 2022 to May of 2023 was 4226423. Out of this 2541806 number of rides were from riders with annual membership, making up to 60% of the totall rides taken.\n",
        "\n",
        "* Classic bikes are the most popular rideable type. They are also the most popular rideable type among annual membership riders, followed by electric bikes. Majority of the casual riders prefer to ride electric bikes, followed by docked biked. However, none of the annual membership riders prefer using docked bikes.\n",
        "\n",
        "* For casual riders, the most popular days are Saturday and Sunday, respectively. Whereas, for annual membership riders, the most popular days are Wednesday and Tuesday, respectively. Overall, Saturday has the most number of total riders.\n",
        "Casual riders mostly rent bikes on weekends while members use them consistently throughout the week.\n",
        "\n",
        "* For casual riders, the most popular month is July. And, for annual membership riders, the most popular month is August. July is also the most popular month overall.\n",
        "August, July and June have the most numbers of riders. There is a clear rise in the number of rides taken in the months of summer.\n",
        "\n",
        "* The number of bike rentals by both casual and annual membership riders peak at 5 pm.\n",
        "The numbers of casual riders grows gradually throughout the day, peaking at 5 pm. Whereas, there are significant peaks in the number of annual membership riders during the morning hours and later at 5 pm.\n",
        "\n",
        "* The most popular start station for casual riders is 'Kingsbury St & Kinzie St'. For annual membership riders, it is 'Streeter Dr & Grand Ave'. Streeter Dr & Grand Ave is also the most popular start station in general."
      ],
      "metadata": {
        "id": "m55ERW3LJPAm"
      }
    },
    {
      "cell_type": "markdown",
      "source": [
        "**RECOMMENDATIONS:**\n",
        "\n",
        "* Increase marketing campaign targeted at casual riders.The ads could offer special discounts for the annual membership to encourage casual riders to become members.\n",
        "\n",
        "* Most casual riders prefer electric bikes. Offering to subscribe to electric bikes at a discounted price can encourage more casual riders to buy a subscription.\n",
        "\n",
        "* Weekends see the most number of casual riders. Designing a new type of subcription plan only for weekend riders can also increase the amount of members. Similarly, a different type of membership plan for seasonal riders will also help increase the member count.\n",
        "\n",
        "* Out of the top 10 start stations, only 4 have above 50% of the riders with an annual membership. The other 6 stations should be targeted during marketing campaigns to increase the percentage of annual membership riders. Adverstising during the peak hours may also help."
      ],
      "metadata": {
        "id": "ILgMX-5JjBcw"
      }
    }
  ],
  "metadata": {
    "colab": {
      "provenance": [],
      "gpuType": "T4",
      "mount_file_id": "1B70uAorOGVkNMs6joh-ir5093_12ZFtz",
      "authorship_tag": "ABX9TyPOinIteOnt+9tQWv8L95zQ",
      "include_colab_link": true
    },
    "kernelspec": {
      "display_name": "Python 3",
      "name": "python3"
    },
    "language_info": {
      "name": "python"
    },
    "accelerator": "GPU"
  },
  "nbformat": 4,
  "nbformat_minor": 0
}
